{
  "nbformat": 4,
  "nbformat_minor": 0,
  "metadata": {
    "colab": {
      "provenance": []
    },
    "kernelspec": {
      "name": "python3",
      "display_name": "Python 3"
    },
    "language_info": {
      "name": "python"
    }
  },
  "cells": [
    {
      "cell_type": "code",
      "execution_count": 2,
      "metadata": {
        "id": "eolXeF03-OH1"
      },
      "outputs": [],
      "source": [
        "import pandas as pd\n",
        "import numpy as np\n",
        "import tensorflow as tf\n",
        "from tensorflow.keras import layers\n",
        "import matplotlib.pyplot as plt"
      ]
    },
    {
      "cell_type": "code",
      "source": [
        "from torchvision import datasets\n",
        "from torchvision.transforms import ToTensor"
      ],
      "metadata": {
        "id": "0EEPDxIj-Whs"
      },
      "execution_count": 3,
      "outputs": []
    },
    {
      "cell_type": "code",
      "source": [
        "train_data = datasets.MNIST(\n",
        "    root = 'data',\n",
        "    train = True,\n",
        "    transform = ToTensor(),\n",
        "    download = True\n",
        ")\n",
        "\n",
        "test_data = datasets.MNIST(\n",
        "    root = 'data',\n",
        "    train = False,\n",
        "    transform = ToTensor(),\n",
        "    download = True\n",
        ")"
      ],
      "metadata": {
        "colab": {
          "base_uri": "https://localhost:8080/"
        },
        "id": "hh3euI5gANZo",
        "outputId": "63490b1c-b39f-4f5b-f8f9-e9cddc29d04c"
      },
      "execution_count": 4,
      "outputs": [
        {
          "output_type": "stream",
          "name": "stdout",
          "text": [
            "Downloading http://yann.lecun.com/exdb/mnist/train-images-idx3-ubyte.gz\n",
            "Failed to download (trying next):\n",
            "<urlopen error [SSL: CERTIFICATE_VERIFY_FAILED] certificate verify failed: certificate has expired (_ssl.c:1007)>\n",
            "\n",
            "Downloading https://ossci-datasets.s3.amazonaws.com/mnist/train-images-idx3-ubyte.gz\n",
            "Downloading https://ossci-datasets.s3.amazonaws.com/mnist/train-images-idx3-ubyte.gz to data/MNIST/raw/train-images-idx3-ubyte.gz\n"
          ]
        },
        {
          "output_type": "stream",
          "name": "stderr",
          "text": [
            "100%|██████████| 9912422/9912422 [00:00<00:00, 22423129.62it/s]\n"
          ]
        },
        {
          "output_type": "stream",
          "name": "stdout",
          "text": [
            "Extracting data/MNIST/raw/train-images-idx3-ubyte.gz to data/MNIST/raw\n",
            "\n",
            "Downloading http://yann.lecun.com/exdb/mnist/train-labels-idx1-ubyte.gz\n",
            "Failed to download (trying next):\n",
            "<urlopen error [SSL: CERTIFICATE_VERIFY_FAILED] certificate verify failed: certificate has expired (_ssl.c:1007)>\n",
            "\n",
            "Downloading https://ossci-datasets.s3.amazonaws.com/mnist/train-labels-idx1-ubyte.gz\n",
            "Downloading https://ossci-datasets.s3.amazonaws.com/mnist/train-labels-idx1-ubyte.gz to data/MNIST/raw/train-labels-idx1-ubyte.gz\n"
          ]
        },
        {
          "output_type": "stream",
          "name": "stderr",
          "text": [
            "100%|██████████| 28881/28881 [00:00<00:00, 622124.33it/s]\n"
          ]
        },
        {
          "output_type": "stream",
          "name": "stdout",
          "text": [
            "Extracting data/MNIST/raw/train-labels-idx1-ubyte.gz to data/MNIST/raw\n",
            "\n",
            "Downloading http://yann.lecun.com/exdb/mnist/t10k-images-idx3-ubyte.gz\n",
            "Failed to download (trying next):\n",
            "<urlopen error [SSL: CERTIFICATE_VERIFY_FAILED] certificate verify failed: certificate has expired (_ssl.c:1007)>\n",
            "\n",
            "Downloading https://ossci-datasets.s3.amazonaws.com/mnist/t10k-images-idx3-ubyte.gz\n",
            "Downloading https://ossci-datasets.s3.amazonaws.com/mnist/t10k-images-idx3-ubyte.gz to data/MNIST/raw/t10k-images-idx3-ubyte.gz\n"
          ]
        },
        {
          "output_type": "stream",
          "name": "stderr",
          "text": [
            "100%|██████████| 1648877/1648877 [00:00<00:00, 5652168.30it/s]\n"
          ]
        },
        {
          "output_type": "stream",
          "name": "stdout",
          "text": [
            "Extracting data/MNIST/raw/t10k-images-idx3-ubyte.gz to data/MNIST/raw\n",
            "\n",
            "Downloading http://yann.lecun.com/exdb/mnist/t10k-labels-idx1-ubyte.gz\n",
            "Failed to download (trying next):\n",
            "<urlopen error [SSL: CERTIFICATE_VERIFY_FAILED] certificate verify failed: certificate has expired (_ssl.c:1007)>\n",
            "\n",
            "Downloading https://ossci-datasets.s3.amazonaws.com/mnist/t10k-labels-idx1-ubyte.gz\n",
            "Downloading https://ossci-datasets.s3.amazonaws.com/mnist/t10k-labels-idx1-ubyte.gz to data/MNIST/raw/t10k-labels-idx1-ubyte.gz\n"
          ]
        },
        {
          "output_type": "stream",
          "name": "stderr",
          "text": [
            "100%|██████████| 4542/4542 [00:00<00:00, 3534420.92it/s]"
          ]
        },
        {
          "output_type": "stream",
          "name": "stdout",
          "text": [
            "Extracting data/MNIST/raw/t10k-labels-idx1-ubyte.gz to data/MNIST/raw\n",
            "\n"
          ]
        },
        {
          "output_type": "stream",
          "name": "stderr",
          "text": [
            "\n"
          ]
        }
      ]
    },
    {
      "cell_type": "code",
      "source": [
        "train_data"
      ],
      "metadata": {
        "colab": {
          "base_uri": "https://localhost:8080/"
        },
        "id": "3SD5zXkTAmnz",
        "outputId": "d278f7ac-8eba-4c37-b212-91cc14ba66f3"
      },
      "execution_count": 5,
      "outputs": [
        {
          "output_type": "execute_result",
          "data": {
            "text/plain": [
              "Dataset MNIST\n",
              "    Number of datapoints: 60000\n",
              "    Root location: data\n",
              "    Split: Train\n",
              "    StandardTransform\n",
              "Transform: ToTensor()"
            ]
          },
          "metadata": {},
          "execution_count": 5
        }
      ]
    },
    {
      "cell_type": "code",
      "source": [
        "test_data"
      ],
      "metadata": {
        "colab": {
          "base_uri": "https://localhost:8080/"
        },
        "id": "_CdPptpCAopi",
        "outputId": "bb76e66b-55f7-4514-8351-55fc888f9db7"
      },
      "execution_count": 6,
      "outputs": [
        {
          "output_type": "execute_result",
          "data": {
            "text/plain": [
              "Dataset MNIST\n",
              "    Number of datapoints: 10000\n",
              "    Root location: data\n",
              "    Split: Test\n",
              "    StandardTransform\n",
              "Transform: ToTensor()"
            ]
          },
          "metadata": {},
          "execution_count": 6
        }
      ]
    },
    {
      "cell_type": "code",
      "source": [
        "from torch.utils.data import DataLoader\n",
        "\n",
        "loaders = {\n",
        "    'train' : DataLoader(train_data, batch_size = 100, shuffle = True, num_workers=1),\n",
        "    'test' : DataLoader(test_data, batch_size = 100, shuffle = True, num_workers=1),\n",
        "}"
      ],
      "metadata": {
        "id": "uT5GbSuiBVZv"
      },
      "execution_count": 7,
      "outputs": []
    },
    {
      "cell_type": "code",
      "source": [
        "loaders"
      ],
      "metadata": {
        "colab": {
          "base_uri": "https://localhost:8080/"
        },
        "id": "REutrFpsB6nX",
        "outputId": "a6a49331-8908-4a94-c25f-fe7b5936ddaf"
      },
      "execution_count": 8,
      "outputs": [
        {
          "output_type": "execute_result",
          "data": {
            "text/plain": [
              "{'train': <torch.utils.data.dataloader.DataLoader at 0x7e00340756c0>,\n",
              " 'test': <torch.utils.data.dataloader.DataLoader at 0x7e0034076bf0>}"
            ]
          },
          "metadata": {},
          "execution_count": 8
        }
      ]
    },
    {
      "cell_type": "code",
      "source": [
        "import torch.nn as nn\n",
        "import torch.nn.functional as F\n",
        "import torch.optim as optim\n",
        "\n",
        "class CNN(nn.Module):\n",
        "\n",
        "  def __init__(self):\n",
        "    super(CNN, self).__init__()\n",
        "\n",
        "    self.conv1 = nn.Conv2d(1, 10, kernel_size=5)\n",
        "    self.conv2 = nn.Conv2d(10, 20, kernel_size=5)\n",
        "    self.conv2_drop = nn.Dropout2d()\n",
        "    self.fc1 = nn.Linear(320, 50)\n",
        "    self.fc2 = nn.Linear(50, 10)\n",
        "\n",
        "  def forward(self, x):\n",
        "    x = F.relu(F.max_pool2d(self.conv1(x), 2))\n",
        "    x = F.relu(F.max_pool2d(self.conv2_drop(self.conv2(x)), 2))\n",
        "    x = x.view(-1, 320)\n",
        "    x = F.relu(self.fc1(x))\n",
        "    x = F.dropout(x, training=self.training)\n",
        "    x = self.fc2(x)\n",
        "\n",
        "    return F.log_softmax(x)"
      ],
      "metadata": {
        "id": "WC-RpUutB8nD"
      },
      "execution_count": 9,
      "outputs": []
    },
    {
      "cell_type": "code",
      "source": [
        "import torch\n",
        "\n",
        "device = torch.device('cuda' if torch.cuda.is_available() else 'cpu')\n",
        "\n",
        "model = CNN().to(device)\n",
        "\n",
        "optimizer = optim.Adam(model.parameters(), lr=0.001)\n",
        "\n",
        "loss_fn = nn.CrossEntropyLoss()\n",
        "\n",
        "def train(epoch):\n",
        "  model.train()\n",
        "  for batch_idx, (data, target) in enumerate(loaders['train']):\n",
        "    data, target = data.to(device), target.to(device)\n",
        "    optimizer.zero_grad()\n",
        "    output = model(data)\n",
        "    loss = loss_fn(output, target)\n",
        "    loss.backward()\n",
        "    optimizer.step()\n",
        "    if batch_idx % 20 == 0:\n",
        "      print(f'Train Epoch: {epoch} [{batch_idx * len(data)}/{len(loaders[\"train\"].dataset)} ({100. * batch_idx / len(loaders[\"train\"]):.0f}%)]\\t{loss.item():.6f}')\n",
        "\n",
        "def test():\n",
        "  model.eval()\n",
        "\n",
        "  test_loss = 0\n",
        "  correct = 0\n",
        "\n",
        "  with torch.no_grad():\n",
        "    for data, target in loaders['test']:\n",
        "      data, target = data.to(device), target.to(device)\n",
        "      output = model(data)\n",
        "      test_loss += loss_fn(output, target).item()\n",
        "      pred = output.argmax(dim=1, keepdim=True)\n",
        "      correct += pred.eq(target.view_as(pred)).sum().item()\n",
        "\n",
        "  test_loss /= len(loaders['test'].dataset)\n",
        "  print(f'\\nTest set: Average Set: {test_loss:.4f}, Accuracy {correct}/{len(loaders[\"test\"].dataset)}({100. * correct / len(loaders[\"test\"].dataset):.0f}%\\n)')\n"
      ],
      "metadata": {
        "id": "-1T2o8GeIHFc"
      },
      "execution_count": 12,
      "outputs": []
    },
    {
      "cell_type": "code",
      "source": [
        "for epoch in range(1, 11):\n",
        "  train(epoch)\n",
        "  test()"
      ],
      "metadata": {
        "colab": {
          "base_uri": "https://localhost:8080/"
        },
        "id": "q2hAMHAcOnP9",
        "outputId": "f44aae39-7ea2-482a-fe0f-126e8853a132"
      },
      "execution_count": 13,
      "outputs": [
        {
          "output_type": "stream",
          "name": "stderr",
          "text": [
            "<ipython-input-9-f6ca335473cf>:24: UserWarning: Implicit dimension choice for log_softmax has been deprecated. Change the call to include dim=X as an argument.\n",
            "  return F.log_softmax(x)\n"
          ]
        },
        {
          "output_type": "stream",
          "name": "stdout",
          "text": [
            "Train Epoch: 1 [0/60000 (0%)]\t2.309124\n",
            "Train Epoch: 1 [2000/60000 (3%)]\t2.198830\n",
            "Train Epoch: 1 [4000/60000 (7%)]\t1.829269\n",
            "Train Epoch: 1 [6000/60000 (10%)]\t1.085919\n",
            "Train Epoch: 1 [8000/60000 (13%)]\t1.006808\n",
            "Train Epoch: 1 [10000/60000 (17%)]\t0.696211\n",
            "Train Epoch: 1 [12000/60000 (20%)]\t0.537424\n",
            "Train Epoch: 1 [14000/60000 (23%)]\t0.571821\n",
            "Train Epoch: 1 [16000/60000 (27%)]\t0.695793\n",
            "Train Epoch: 1 [18000/60000 (30%)]\t0.668270\n",
            "Train Epoch: 1 [20000/60000 (33%)]\t0.689914\n",
            "Train Epoch: 1 [22000/60000 (37%)]\t0.624319\n",
            "Train Epoch: 1 [24000/60000 (40%)]\t0.545413\n",
            "Train Epoch: 1 [26000/60000 (43%)]\t0.579588\n",
            "Train Epoch: 1 [28000/60000 (47%)]\t0.480753\n",
            "Train Epoch: 1 [30000/60000 (50%)]\t0.379445\n",
            "Train Epoch: 1 [32000/60000 (53%)]\t0.376396\n",
            "Train Epoch: 1 [34000/60000 (57%)]\t0.414878\n",
            "Train Epoch: 1 [36000/60000 (60%)]\t0.575276\n",
            "Train Epoch: 1 [38000/60000 (63%)]\t0.414092\n",
            "Train Epoch: 1 [40000/60000 (67%)]\t0.396564\n",
            "Train Epoch: 1 [42000/60000 (70%)]\t0.369228\n",
            "Train Epoch: 1 [44000/60000 (73%)]\t0.315632\n",
            "Train Epoch: 1 [46000/60000 (77%)]\t0.554611\n",
            "Train Epoch: 1 [48000/60000 (80%)]\t0.313113\n",
            "Train Epoch: 1 [50000/60000 (83%)]\t0.378505\n",
            "Train Epoch: 1 [52000/60000 (87%)]\t0.321668\n",
            "Train Epoch: 1 [54000/60000 (90%)]\t0.169350\n",
            "Train Epoch: 1 [56000/60000 (93%)]\t0.556225\n",
            "Train Epoch: 1 [58000/60000 (97%)]\t0.330454\n",
            "\n",
            "Test set: Average Set: 0.0014, Accuracy 9578/10000(96%\n",
            ")\n",
            "Train Epoch: 2 [0/60000 (0%)]\t0.352692\n",
            "Train Epoch: 2 [2000/60000 (3%)]\t0.276253\n",
            "Train Epoch: 2 [4000/60000 (7%)]\t0.246512\n",
            "Train Epoch: 2 [6000/60000 (10%)]\t0.302305\n",
            "Train Epoch: 2 [8000/60000 (13%)]\t0.334773\n",
            "Train Epoch: 2 [10000/60000 (17%)]\t0.239801\n",
            "Train Epoch: 2 [12000/60000 (20%)]\t0.190550\n",
            "Train Epoch: 2 [14000/60000 (23%)]\t0.331501\n",
            "Train Epoch: 2 [16000/60000 (27%)]\t0.234870\n",
            "Train Epoch: 2 [18000/60000 (30%)]\t0.346458\n",
            "Train Epoch: 2 [20000/60000 (33%)]\t0.333056\n",
            "Train Epoch: 2 [22000/60000 (37%)]\t0.254270\n",
            "Train Epoch: 2 [24000/60000 (40%)]\t0.397949\n",
            "Train Epoch: 2 [26000/60000 (43%)]\t0.319742\n",
            "Train Epoch: 2 [28000/60000 (47%)]\t0.334374\n",
            "Train Epoch: 2 [30000/60000 (50%)]\t0.372095\n",
            "Train Epoch: 2 [32000/60000 (53%)]\t0.205921\n",
            "Train Epoch: 2 [34000/60000 (57%)]\t0.336688\n",
            "Train Epoch: 2 [36000/60000 (60%)]\t0.335475\n",
            "Train Epoch: 2 [38000/60000 (63%)]\t0.372184\n",
            "Train Epoch: 2 [40000/60000 (67%)]\t0.360723\n",
            "Train Epoch: 2 [42000/60000 (70%)]\t0.174211\n",
            "Train Epoch: 2 [44000/60000 (73%)]\t0.307325\n",
            "Train Epoch: 2 [46000/60000 (77%)]\t0.253026\n",
            "Train Epoch: 2 [48000/60000 (80%)]\t0.287175\n",
            "Train Epoch: 2 [50000/60000 (83%)]\t0.449135\n",
            "Train Epoch: 2 [52000/60000 (87%)]\t0.305232\n",
            "Train Epoch: 2 [54000/60000 (90%)]\t0.474874\n",
            "Train Epoch: 2 [56000/60000 (93%)]\t0.216230\n",
            "Train Epoch: 2 [58000/60000 (97%)]\t0.315261\n",
            "\n",
            "Test set: Average Set: 0.0009, Accuracy 9714/10000(97%\n",
            ")\n",
            "Train Epoch: 3 [0/60000 (0%)]\t0.353411\n",
            "Train Epoch: 3 [2000/60000 (3%)]\t0.201804\n",
            "Train Epoch: 3 [4000/60000 (7%)]\t0.283098\n",
            "Train Epoch: 3 [6000/60000 (10%)]\t0.269626\n",
            "Train Epoch: 3 [8000/60000 (13%)]\t0.214670\n",
            "Train Epoch: 3 [10000/60000 (17%)]\t0.289507\n",
            "Train Epoch: 3 [12000/60000 (20%)]\t0.260180\n",
            "Train Epoch: 3 [14000/60000 (23%)]\t0.218623\n",
            "Train Epoch: 3 [16000/60000 (27%)]\t0.241163\n",
            "Train Epoch: 3 [18000/60000 (30%)]\t0.304996\n",
            "Train Epoch: 3 [20000/60000 (33%)]\t0.242960\n",
            "Train Epoch: 3 [22000/60000 (37%)]\t0.334316\n",
            "Train Epoch: 3 [24000/60000 (40%)]\t0.315803\n",
            "Train Epoch: 3 [26000/60000 (43%)]\t0.129133\n",
            "Train Epoch: 3 [28000/60000 (47%)]\t0.269049\n",
            "Train Epoch: 3 [30000/60000 (50%)]\t0.241066\n",
            "Train Epoch: 3 [32000/60000 (53%)]\t0.298702\n",
            "Train Epoch: 3 [34000/60000 (57%)]\t0.161781\n",
            "Train Epoch: 3 [36000/60000 (60%)]\t0.139547\n",
            "Train Epoch: 3 [38000/60000 (63%)]\t0.172675\n",
            "Train Epoch: 3 [40000/60000 (67%)]\t0.209247\n",
            "Train Epoch: 3 [42000/60000 (70%)]\t0.206505\n",
            "Train Epoch: 3 [44000/60000 (73%)]\t0.216996\n",
            "Train Epoch: 3 [46000/60000 (77%)]\t0.533674\n",
            "Train Epoch: 3 [48000/60000 (80%)]\t0.299558\n",
            "Train Epoch: 3 [50000/60000 (83%)]\t0.220339\n",
            "Train Epoch: 3 [52000/60000 (87%)]\t0.238761\n",
            "Train Epoch: 3 [54000/60000 (90%)]\t0.254996\n",
            "Train Epoch: 3 [56000/60000 (93%)]\t0.208869\n",
            "Train Epoch: 3 [58000/60000 (97%)]\t0.183395\n",
            "\n",
            "Test set: Average Set: 0.0008, Accuracy 9767/10000(98%\n",
            ")\n",
            "Train Epoch: 4 [0/60000 (0%)]\t0.139470\n",
            "Train Epoch: 4 [2000/60000 (3%)]\t0.233750\n",
            "Train Epoch: 4 [4000/60000 (7%)]\t0.177215\n",
            "Train Epoch: 4 [6000/60000 (10%)]\t0.194415\n",
            "Train Epoch: 4 [8000/60000 (13%)]\t0.285797\n",
            "Train Epoch: 4 [10000/60000 (17%)]\t0.200642\n",
            "Train Epoch: 4 [12000/60000 (20%)]\t0.307979\n",
            "Train Epoch: 4 [14000/60000 (23%)]\t0.165413\n",
            "Train Epoch: 4 [16000/60000 (27%)]\t0.202228\n",
            "Train Epoch: 4 [18000/60000 (30%)]\t0.124261\n",
            "Train Epoch: 4 [20000/60000 (33%)]\t0.200435\n",
            "Train Epoch: 4 [22000/60000 (37%)]\t0.235940\n",
            "Train Epoch: 4 [24000/60000 (40%)]\t0.187579\n",
            "Train Epoch: 4 [26000/60000 (43%)]\t0.286624\n",
            "Train Epoch: 4 [28000/60000 (47%)]\t0.371183\n",
            "Train Epoch: 4 [30000/60000 (50%)]\t0.143176\n",
            "Train Epoch: 4 [32000/60000 (53%)]\t0.375610\n",
            "Train Epoch: 4 [34000/60000 (57%)]\t0.178293\n",
            "Train Epoch: 4 [36000/60000 (60%)]\t0.167446\n",
            "Train Epoch: 4 [38000/60000 (63%)]\t0.265772\n",
            "Train Epoch: 4 [40000/60000 (67%)]\t0.106833\n",
            "Train Epoch: 4 [42000/60000 (70%)]\t0.295095\n",
            "Train Epoch: 4 [44000/60000 (73%)]\t0.263675\n",
            "Train Epoch: 4 [46000/60000 (77%)]\t0.313110\n",
            "Train Epoch: 4 [48000/60000 (80%)]\t0.228773\n",
            "Train Epoch: 4 [50000/60000 (83%)]\t0.169768\n",
            "Train Epoch: 4 [52000/60000 (87%)]\t0.127723\n",
            "Train Epoch: 4 [54000/60000 (90%)]\t0.143753\n",
            "Train Epoch: 4 [56000/60000 (93%)]\t0.182793\n",
            "Train Epoch: 4 [58000/60000 (97%)]\t0.222367\n",
            "\n",
            "Test set: Average Set: 0.0006, Accuracy 9807/10000(98%\n",
            ")\n",
            "Train Epoch: 5 [0/60000 (0%)]\t0.170749\n",
            "Train Epoch: 5 [2000/60000 (3%)]\t0.291012\n",
            "Train Epoch: 5 [4000/60000 (7%)]\t0.109607\n",
            "Train Epoch: 5 [6000/60000 (10%)]\t0.134781\n",
            "Train Epoch: 5 [8000/60000 (13%)]\t0.221476\n",
            "Train Epoch: 5 [10000/60000 (17%)]\t0.207723\n",
            "Train Epoch: 5 [12000/60000 (20%)]\t0.129326\n",
            "Train Epoch: 5 [14000/60000 (23%)]\t0.166247\n",
            "Train Epoch: 5 [16000/60000 (27%)]\t0.222476\n",
            "Train Epoch: 5 [18000/60000 (30%)]\t0.126251\n",
            "Train Epoch: 5 [20000/60000 (33%)]\t0.251739\n",
            "Train Epoch: 5 [22000/60000 (37%)]\t0.230387\n",
            "Train Epoch: 5 [24000/60000 (40%)]\t0.212777\n",
            "Train Epoch: 5 [26000/60000 (43%)]\t0.270234\n",
            "Train Epoch: 5 [28000/60000 (47%)]\t0.139338\n",
            "Train Epoch: 5 [30000/60000 (50%)]\t0.255778\n",
            "Train Epoch: 5 [32000/60000 (53%)]\t0.177191\n",
            "Train Epoch: 5 [34000/60000 (57%)]\t0.195089\n",
            "Train Epoch: 5 [36000/60000 (60%)]\t0.124353\n",
            "Train Epoch: 5 [38000/60000 (63%)]\t0.120323\n",
            "Train Epoch: 5 [40000/60000 (67%)]\t0.222159\n",
            "Train Epoch: 5 [42000/60000 (70%)]\t0.252765\n",
            "Train Epoch: 5 [44000/60000 (73%)]\t0.146702\n",
            "Train Epoch: 5 [46000/60000 (77%)]\t0.252665\n",
            "Train Epoch: 5 [48000/60000 (80%)]\t0.202033\n",
            "Train Epoch: 5 [50000/60000 (83%)]\t0.207704\n",
            "Train Epoch: 5 [52000/60000 (87%)]\t0.257081\n",
            "Train Epoch: 5 [54000/60000 (90%)]\t0.162558\n",
            "Train Epoch: 5 [56000/60000 (93%)]\t0.229960\n",
            "Train Epoch: 5 [58000/60000 (97%)]\t0.049375\n",
            "\n",
            "Test set: Average Set: 0.0005, Accuracy 9826/10000(98%\n",
            ")\n",
            "Train Epoch: 6 [0/60000 (0%)]\t0.119990\n",
            "Train Epoch: 6 [2000/60000 (3%)]\t0.147542\n",
            "Train Epoch: 6 [4000/60000 (7%)]\t0.422027\n",
            "Train Epoch: 6 [6000/60000 (10%)]\t0.171327\n",
            "Train Epoch: 6 [8000/60000 (13%)]\t0.078023\n",
            "Train Epoch: 6 [10000/60000 (17%)]\t0.131808\n",
            "Train Epoch: 6 [12000/60000 (20%)]\t0.246110\n",
            "Train Epoch: 6 [14000/60000 (23%)]\t0.183968\n",
            "Train Epoch: 6 [16000/60000 (27%)]\t0.227059\n",
            "Train Epoch: 6 [18000/60000 (30%)]\t0.335287\n",
            "Train Epoch: 6 [20000/60000 (33%)]\t0.118739\n",
            "Train Epoch: 6 [22000/60000 (37%)]\t0.155268\n",
            "Train Epoch: 6 [24000/60000 (40%)]\t0.173583\n",
            "Train Epoch: 6 [26000/60000 (43%)]\t0.350843\n",
            "Train Epoch: 6 [28000/60000 (47%)]\t0.093782\n",
            "Train Epoch: 6 [30000/60000 (50%)]\t0.174452\n",
            "Train Epoch: 6 [32000/60000 (53%)]\t0.207272\n",
            "Train Epoch: 6 [34000/60000 (57%)]\t0.183266\n",
            "Train Epoch: 6 [36000/60000 (60%)]\t0.136071\n",
            "Train Epoch: 6 [38000/60000 (63%)]\t0.145332\n",
            "Train Epoch: 6 [40000/60000 (67%)]\t0.161223\n",
            "Train Epoch: 6 [42000/60000 (70%)]\t0.147893\n",
            "Train Epoch: 6 [44000/60000 (73%)]\t0.179117\n",
            "Train Epoch: 6 [46000/60000 (77%)]\t0.287719\n",
            "Train Epoch: 6 [48000/60000 (80%)]\t0.221544\n",
            "Train Epoch: 6 [50000/60000 (83%)]\t0.211147\n",
            "Train Epoch: 6 [52000/60000 (87%)]\t0.122248\n",
            "Train Epoch: 6 [54000/60000 (90%)]\t0.150554\n",
            "Train Epoch: 6 [56000/60000 (93%)]\t0.118224\n",
            "Train Epoch: 6 [58000/60000 (97%)]\t0.144188\n",
            "\n",
            "Test set: Average Set: 0.0005, Accuracy 9829/10000(98%\n",
            ")\n",
            "Train Epoch: 7 [0/60000 (0%)]\t0.224076\n",
            "Train Epoch: 7 [2000/60000 (3%)]\t0.088484\n",
            "Train Epoch: 7 [4000/60000 (7%)]\t0.163310\n",
            "Train Epoch: 7 [6000/60000 (10%)]\t0.157438\n",
            "Train Epoch: 7 [8000/60000 (13%)]\t0.158693\n",
            "Train Epoch: 7 [10000/60000 (17%)]\t0.354055\n",
            "Train Epoch: 7 [12000/60000 (20%)]\t0.237163\n",
            "Train Epoch: 7 [14000/60000 (23%)]\t0.196016\n",
            "Train Epoch: 7 [16000/60000 (27%)]\t0.119013\n",
            "Train Epoch: 7 [18000/60000 (30%)]\t0.171604\n",
            "Train Epoch: 7 [20000/60000 (33%)]\t0.103327\n",
            "Train Epoch: 7 [22000/60000 (37%)]\t0.156327\n",
            "Train Epoch: 7 [24000/60000 (40%)]\t0.297003\n",
            "Train Epoch: 7 [26000/60000 (43%)]\t0.199521\n",
            "Train Epoch: 7 [28000/60000 (47%)]\t0.249977\n",
            "Train Epoch: 7 [30000/60000 (50%)]\t0.227964\n",
            "Train Epoch: 7 [32000/60000 (53%)]\t0.145803\n",
            "Train Epoch: 7 [34000/60000 (57%)]\t0.143119\n",
            "Train Epoch: 7 [36000/60000 (60%)]\t0.159139\n",
            "Train Epoch: 7 [38000/60000 (63%)]\t0.156743\n",
            "Train Epoch: 7 [40000/60000 (67%)]\t0.129896\n",
            "Train Epoch: 7 [42000/60000 (70%)]\t0.332007\n",
            "Train Epoch: 7 [44000/60000 (73%)]\t0.130610\n",
            "Train Epoch: 7 [46000/60000 (77%)]\t0.071599\n",
            "Train Epoch: 7 [48000/60000 (80%)]\t0.184140\n",
            "Train Epoch: 7 [50000/60000 (83%)]\t0.203103\n",
            "Train Epoch: 7 [52000/60000 (87%)]\t0.250046\n",
            "Train Epoch: 7 [54000/60000 (90%)]\t0.079167\n",
            "Train Epoch: 7 [56000/60000 (93%)]\t0.214664\n",
            "Train Epoch: 7 [58000/60000 (97%)]\t0.092436\n",
            "\n",
            "Test set: Average Set: 0.0004, Accuracy 9863/10000(99%\n",
            ")\n",
            "Train Epoch: 8 [0/60000 (0%)]\t0.169809\n",
            "Train Epoch: 8 [2000/60000 (3%)]\t0.168255\n",
            "Train Epoch: 8 [4000/60000 (7%)]\t0.181257\n",
            "Train Epoch: 8 [6000/60000 (10%)]\t0.098961\n",
            "Train Epoch: 8 [8000/60000 (13%)]\t0.060836\n",
            "Train Epoch: 8 [10000/60000 (17%)]\t0.078962\n",
            "Train Epoch: 8 [12000/60000 (20%)]\t0.175950\n",
            "Train Epoch: 8 [14000/60000 (23%)]\t0.191571\n",
            "Train Epoch: 8 [16000/60000 (27%)]\t0.153156\n",
            "Train Epoch: 8 [18000/60000 (30%)]\t0.069189\n",
            "Train Epoch: 8 [20000/60000 (33%)]\t0.234047\n",
            "Train Epoch: 8 [22000/60000 (37%)]\t0.238475\n",
            "Train Epoch: 8 [24000/60000 (40%)]\t0.302602\n",
            "Train Epoch: 8 [26000/60000 (43%)]\t0.112513\n",
            "Train Epoch: 8 [28000/60000 (47%)]\t0.302315\n",
            "Train Epoch: 8 [30000/60000 (50%)]\t0.238789\n",
            "Train Epoch: 8 [32000/60000 (53%)]\t0.077497\n",
            "Train Epoch: 8 [34000/60000 (57%)]\t0.228773\n",
            "Train Epoch: 8 [36000/60000 (60%)]\t0.157067\n",
            "Train Epoch: 8 [38000/60000 (63%)]\t0.190537\n",
            "Train Epoch: 8 [40000/60000 (67%)]\t0.243796\n",
            "Train Epoch: 8 [42000/60000 (70%)]\t0.100498\n",
            "Train Epoch: 8 [44000/60000 (73%)]\t0.152464\n",
            "Train Epoch: 8 [46000/60000 (77%)]\t0.103966\n",
            "Train Epoch: 8 [48000/60000 (80%)]\t0.172156\n",
            "Train Epoch: 8 [50000/60000 (83%)]\t0.210542\n",
            "Train Epoch: 8 [52000/60000 (87%)]\t0.327057\n",
            "Train Epoch: 8 [54000/60000 (90%)]\t0.150411\n",
            "Train Epoch: 8 [56000/60000 (93%)]\t0.148677\n",
            "Train Epoch: 8 [58000/60000 (97%)]\t0.165711\n",
            "\n",
            "Test set: Average Set: 0.0004, Accuracy 9861/10000(99%\n",
            ")\n",
            "Train Epoch: 9 [0/60000 (0%)]\t0.102991\n",
            "Train Epoch: 9 [2000/60000 (3%)]\t0.140777\n",
            "Train Epoch: 9 [4000/60000 (7%)]\t0.136012\n",
            "Train Epoch: 9 [6000/60000 (10%)]\t0.155275\n",
            "Train Epoch: 9 [8000/60000 (13%)]\t0.205601\n",
            "Train Epoch: 9 [10000/60000 (17%)]\t0.170694\n",
            "Train Epoch: 9 [12000/60000 (20%)]\t0.225236\n",
            "Train Epoch: 9 [14000/60000 (23%)]\t0.100736\n",
            "Train Epoch: 9 [16000/60000 (27%)]\t0.107091\n",
            "Train Epoch: 9 [18000/60000 (30%)]\t0.068605\n",
            "Train Epoch: 9 [20000/60000 (33%)]\t0.071638\n",
            "Train Epoch: 9 [22000/60000 (37%)]\t0.041508\n",
            "Train Epoch: 9 [24000/60000 (40%)]\t0.167430\n",
            "Train Epoch: 9 [26000/60000 (43%)]\t0.204158\n",
            "Train Epoch: 9 [28000/60000 (47%)]\t0.054092\n",
            "Train Epoch: 9 [30000/60000 (50%)]\t0.083233\n",
            "Train Epoch: 9 [32000/60000 (53%)]\t0.089786\n",
            "Train Epoch: 9 [34000/60000 (57%)]\t0.096408\n",
            "Train Epoch: 9 [36000/60000 (60%)]\t0.057763\n",
            "Train Epoch: 9 [38000/60000 (63%)]\t0.062754\n",
            "Train Epoch: 9 [40000/60000 (67%)]\t0.218521\n",
            "Train Epoch: 9 [42000/60000 (70%)]\t0.087328\n",
            "Train Epoch: 9 [44000/60000 (73%)]\t0.144480\n",
            "Train Epoch: 9 [46000/60000 (77%)]\t0.206804\n",
            "Train Epoch: 9 [48000/60000 (80%)]\t0.084519\n",
            "Train Epoch: 9 [50000/60000 (83%)]\t0.097097\n",
            "Train Epoch: 9 [52000/60000 (87%)]\t0.083597\n",
            "Train Epoch: 9 [54000/60000 (90%)]\t0.131680\n",
            "Train Epoch: 9 [56000/60000 (93%)]\t0.209237\n",
            "Train Epoch: 9 [58000/60000 (97%)]\t0.087009\n",
            "\n",
            "Test set: Average Set: 0.0004, Accuracy 9857/10000(99%\n",
            ")\n",
            "Train Epoch: 10 [0/60000 (0%)]\t0.147589\n",
            "Train Epoch: 10 [2000/60000 (3%)]\t0.195858\n",
            "Train Epoch: 10 [4000/60000 (7%)]\t0.119942\n",
            "Train Epoch: 10 [6000/60000 (10%)]\t0.081472\n",
            "Train Epoch: 10 [8000/60000 (13%)]\t0.241389\n",
            "Train Epoch: 10 [10000/60000 (17%)]\t0.141072\n",
            "Train Epoch: 10 [12000/60000 (20%)]\t0.217966\n",
            "Train Epoch: 10 [14000/60000 (23%)]\t0.126596\n",
            "Train Epoch: 10 [16000/60000 (27%)]\t0.100167\n",
            "Train Epoch: 10 [18000/60000 (30%)]\t0.147790\n",
            "Train Epoch: 10 [20000/60000 (33%)]\t0.252585\n",
            "Train Epoch: 10 [22000/60000 (37%)]\t0.108342\n",
            "Train Epoch: 10 [24000/60000 (40%)]\t0.111860\n",
            "Train Epoch: 10 [26000/60000 (43%)]\t0.091645\n",
            "Train Epoch: 10 [28000/60000 (47%)]\t0.237253\n",
            "Train Epoch: 10 [30000/60000 (50%)]\t0.177788\n",
            "Train Epoch: 10 [32000/60000 (53%)]\t0.145491\n",
            "Train Epoch: 10 [34000/60000 (57%)]\t0.153430\n",
            "Train Epoch: 10 [36000/60000 (60%)]\t0.134875\n",
            "Train Epoch: 10 [38000/60000 (63%)]\t0.069328\n",
            "Train Epoch: 10 [40000/60000 (67%)]\t0.050769\n",
            "Train Epoch: 10 [42000/60000 (70%)]\t0.132054\n",
            "Train Epoch: 10 [44000/60000 (73%)]\t0.083687\n",
            "Train Epoch: 10 [46000/60000 (77%)]\t0.109126\n",
            "Train Epoch: 10 [48000/60000 (80%)]\t0.177866\n",
            "Train Epoch: 10 [50000/60000 (83%)]\t0.211719\n",
            "Train Epoch: 10 [52000/60000 (87%)]\t0.189701\n",
            "Train Epoch: 10 [54000/60000 (90%)]\t0.070225\n",
            "Train Epoch: 10 [56000/60000 (93%)]\t0.052102\n",
            "Train Epoch: 10 [58000/60000 (97%)]\t0.080773\n",
            "\n",
            "Test set: Average Set: 0.0004, Accuracy 9869/10000(99%\n",
            ")\n"
          ]
        }
      ]
    },
    {
      "cell_type": "code",
      "source": [
        "import matplotlib.pyplot as plt\n",
        "\n",
        "model.eval()\n",
        "\n",
        "data, target = test_data[3]\n",
        "\n",
        "data = data.unsqueeze(0).to(device)\n",
        "\n",
        "output = model(data)\n",
        "\n",
        "prediction = output.argmax(dim=1, keepdim=True).item()\n",
        "\n",
        "print(f'Prediction: (prediction)')\n",
        "\n",
        "image = data.squeeze(0).squeeze(0).cpu().numpy()\n",
        "\n",
        "plt.imshow(image, cmap='gray')\n",
        "plt.show()"
      ],
      "metadata": {
        "colab": {
          "base_uri": "https://localhost:8080/",
          "height": 482
        },
        "id": "hUK8-wxePvPg",
        "outputId": "a9763c31-84e3-4f7c-8d45-67ab2f87ce62"
      },
      "execution_count": 14,
      "outputs": [
        {
          "output_type": "stream",
          "name": "stderr",
          "text": [
            "<ipython-input-9-f6ca335473cf>:24: UserWarning: Implicit dimension choice for log_softmax has been deprecated. Change the call to include dim=X as an argument.\n",
            "  return F.log_softmax(x)\n"
          ]
        },
        {
          "output_type": "stream",
          "name": "stdout",
          "text": [
            "Prediction: (prediction)\n"
          ]
        },
        {
          "output_type": "display_data",
          "data": {
            "text/plain": [
              "<Figure size 640x480 with 1 Axes>"
            ],
            "image/png": "[encoded data removed]"
          },
          "metadata": {}
        }
      ]
    }
  ]
}